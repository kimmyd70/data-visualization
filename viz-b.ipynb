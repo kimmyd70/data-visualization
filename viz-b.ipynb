{
 "metadata": {
  "language_info": {
   "codemirror_mode": {
    "name": "ipython",
    "version": 3
   },
   "file_extension": ".py",
   "mimetype": "text/x-python",
   "name": "python",
   "nbconvert_exporter": "python",
   "pygments_lexer": "ipython3",
   "version": "3.9.1-final"
  },
  "orig_nbformat": 2,
  "kernelspec": {
   "name": "python3",
   "display_name": "Python 3.9.1 64-bit ('.venv')",
   "metadata": {
    "interpreter": {
     "hash": "0fb5e2474c12ac97dd8c265aad5e9100526491f533b21fdf5f3a7a9f81bc6a34"
    }
   }
  }
 },
 "nbformat": 4,
 "nbformat_minor": 2,
 "cells": [
  {
   "source": [
    "## Data Visualization of 1980-90's British bands\n",
    "- Kim Damalas, 27 Jan 2021; seattle-401pyn2\n",
    "- viz-b from data.world: [Gloom Index of Radiohead Songs](https://data.world/rcharlie/gloom-index-of-radiohead-songs/workspace/file?filename=gloom_index.csv)"
   ],
   "cell_type": "markdown",
   "metadata": {}
  },
  {
   "cell_type": "code",
   "execution_count": 3,
   "metadata": {},
   "outputs": [],
   "source": [
    "import pandas as pd \n",
    "import numpy as np \n",
    "import matplotlib.pyplot as plt\n",
    "import seaborn as sns"
   ]
  },
  {
   "cell_type": "code",
   "execution_count": 2,
   "metadata": {},
   "outputs": [],
   "source": [
    "dfg = pd.read_csv(\"./radiohead_gloom_index.csv\")"
   ]
  },
  {
   "source": [
    "Radiohead are an English rock band formed in Abingdon, Oxfordshire, in 1985. The band consists of Thom Yorke (vocals, guitar, piano, keyboards), brothers Jonny Greenwood (lead guitar, keyboards, other instruments) and Colin Greenwood (bass), Ed O'Brien (guitar, backing vocals) and Philip Selway (drums, percussion).\n",
    "\n",
    "Radiohead's musical style has been described as art rock,alternative rock, electronica, experimental rock, progressive rock, Britpop, grunge,art pop,and electronic rock. Radiohead do not see themselves as a rock band and that their methodology had closer parallels with jazz.\n",
    "\n",
    "Radiohead were inducted into the Rock and Roll Hall of Fame in 2019.\n",
    "        - [wikipedia](https://en.wikipedia.org/wiki/Radiohead)\n"
   ],
   "cell_type": "markdown",
   "metadata": {}
  },
  {
   "cell_type": "code",
   "execution_count": null,
   "metadata": {},
   "outputs": [],
   "source": []
  }
 ]
}